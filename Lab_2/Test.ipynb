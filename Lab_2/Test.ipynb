{
 "cells": [
  {
   "cell_type": "code",
   "execution_count": 2,
   "id": "b5e00483-dbad-494a-a3fe-cc956049f6f0",
   "metadata": {},
   "outputs": [],
   "source": [
    "import numpy as np\n",
    "import pandas as pd\n",
    "from keras.models import load_model\n",
    "from sklearn.metrics import classification_report, confusion_matrix"
   ]
  },
  {
   "cell_type": "code",
   "execution_count": 5,
   "id": "63742b58-993b-40ed-b0ec-c2d77f7bf32c",
   "metadata": {
    "scrolled": true
   },
   "outputs": [
    {
     "name": "stdout",
     "output_type": "stream",
     "text": [
      "13/13 [==============================] - 0s 10ms/step\n",
      "Classification Report:\n",
      "              precision    recall  f1-score   support\n",
      "\n",
      "     Class 0       1.00      1.00      1.00        33\n",
      "     Class 1       1.00      1.00      1.00        57\n",
      "     Class 2       0.98      0.98      0.98        44\n",
      "     Class 3       0.97      0.97      0.97        35\n",
      "     Class 4       0.98      0.96      0.97        46\n",
      "     Class 5       1.00      1.00      1.00        42\n",
      "     Class 6       0.94      1.00      0.97        34\n",
      "     Class 7       0.95      0.95      0.95        41\n",
      "     Class 8       0.96      0.96      0.96        27\n",
      "     Class 9       0.97      0.95      0.96        41\n",
      "\n",
      "    accuracy                           0.98       400\n",
      "   macro avg       0.98      0.98      0.98       400\n",
      "weighted avg       0.98      0.98      0.98       400\n",
      "\n",
      "\n",
      "Confusion Matrix:\n",
      "[[33  0  0  0  0  0  0  0  0  0]\n",
      " [ 0 57  0  0  0  0  0  0  0  0]\n",
      " [ 0  0 43  0  0  0  0  1  0  0]\n",
      " [ 0  0  0 34  0  0  0  0  1  0]\n",
      " [ 0  0  0  0 44  0  2  0  0  0]\n",
      " [ 0  0  0  0  0 42  0  0  0  0]\n",
      " [ 0  0  0  0  0  0 34  0  0  0]\n",
      " [ 0  0  0  1  0  0  0 39  0  1]\n",
      " [ 0  0  0  0  1  0  0  0 26  0]\n",
      " [ 0  0  1  0  0  0  0  1  0 39]]\n"
     ]
    }
   ],
   "source": [
    "# Пути к сохранённой модели и данным\n",
    "model_path = 'C:/Users/Dekart/Desktop/Универ/6233 - первый сезон/6. Инженерия данных/Labs/Prerequisites/airflow/data/new_mnist_trained_model.keras'  # Укажите путь к сохранённой модели\n",
    "\n",
    "# Загрузка обученной модели\n",
    "model = load_model(model_path)\n",
    "\n",
    "# Загрузка тестовых данных\n",
    "X_test = pd.read_csv(\"C:/Users/Dekart/Desktop/Универ/6233 - первый сезон/6. Инженерия данных/Labs/Prerequisites/airflow/data/X_test.csv\").to_numpy().astype('float32')\n",
    "y_test = pd.read_csv(\"C:/Users/Dekart/Desktop/Универ/6233 - первый сезон/6. Инженерия данных/Labs/Prerequisites/airflow/data/y_test.csv\").to_numpy().astype('int')\n",
    "\n",
    "# Преобразование X_test в формат, необходимый модели (добавляем канал)\n",
    "X_test = X_test.reshape(-1, 28, 28, 1)\n",
    "\n",
    "# Выполнение инференса на тестовых данных\n",
    "y_pred = model.predict(X_test)\n",
    "y_pred_classes = np.argmax(y_pred, axis=1)  # Преобразование вероятностей в классы\n",
    "y_test_classes = np.argmax(y_test, axis=1)  # Преобразование one-hot в классы\n",
    "\n",
    "# Оценка модели: вывод метрик классификации\n",
    "print(\"Classification Report:\")\n",
    "print(classification_report(y_test_classes, y_pred_classes, target_names=[f\"Class {i}\" for i in range(10)]))\n",
    "\n",
    "print(\"\\nConfusion Matrix:\")\n",
    "print(confusion_matrix(y_test_classes, y_pred_classes))"
   ]
  },
  {
   "cell_type": "code",
   "execution_count": null,
   "id": "8b55a1e2-698c-454c-b077-fab698eaa15b",
   "metadata": {},
   "outputs": [],
   "source": []
  }
 ],
 "metadata": {
  "kernelspec": {
   "display_name": "Python 3 (ipykernel)",
   "language": "python",
   "name": "python3"
  },
  "language_info": {
   "codemirror_mode": {
    "name": "ipython",
    "version": 3
   },
   "file_extension": ".py",
   "mimetype": "text/x-python",
   "name": "python",
   "nbconvert_exporter": "python",
   "pygments_lexer": "ipython3",
   "version": "3.8.3"
  }
 },
 "nbformat": 4,
 "nbformat_minor": 5
}
